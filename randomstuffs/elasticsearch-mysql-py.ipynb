{
 "cells": [
  {
   "cell_type": "code",
   "execution_count": 8,
   "metadata": {},
   "outputs": [
    {
     "name": "stdout",
     "output_type": "stream",
     "text": [
      "All Modules Loaded!\n"
     ]
    }
   ],
   "source": [
    "try:\n",
    "    import os\n",
    "    import sys\n",
    "    import json\n",
    "\n",
    "    import elasticsearch\n",
    "    from elasticsearch import Elasticsearch\n",
    "    import pandas as pd\n",
    "\n",
    "    print(\"All Modules Loaded!\")\n",
    "except Exception as e:\n",
    "    print(\"Some Modules are missing {}\".format(e))\n",
    "\n",
    "    "
   ]
  },
  {
   "cell_type": "code",
   "execution_count": 11,
   "metadata": {},
   "outputs": [],
   "source": [
    "es = Elasticsearch('https://satu-production.es.ap-southeast-1.aws.found.io:9243',\n",
    "        http_auth = ('satusystem','sat@sia2021'),\n",
    "        scheme = 'https',\n",
    "        port=443)\n",
    "\n",
    "es.ping()\n"
   ]
  },
  {
   "cell_type": "code",
   "execution_count": null,
   "metadata": {},
   "outputs": [],
   "source": [
    "es.indices.create(index='my-foo', ignore=400)"
   ]
  },
  {
   "cell_type": "code",
   "execution_count": null,
   "metadata": {},
   "outputs": [],
   "source": [
    "res = es.indices.get_alias(\"*\")\n",
    "for Name in res:\n",
    "    print(Name)"
   ]
  },
  {
   "cell_type": "code",
   "execution_count": 15,
   "metadata": {},
   "outputs": [],
   "source": [
    "query={\"query\" : {\n",
    "        \"match_all\" : {}\n",
    "    }}\n",
    "\n",
    "res = es.search(index=\"traject_raw_data\", body = query, size = 10)"
   ]
  },
  {
   "cell_type": "code",
   "execution_count": null,
   "metadata": {},
   "outputs": [],
   "source": [
    "result = res['hits']['hits'][1]\n",
    "result"
   ]
  },
  {
   "cell_type": "code",
   "execution_count": null,
   "metadata": {},
   "outputs": [],
   "source": [
    "data = pd.DataFrame.from_dict(result)\n",
    "data"
   ]
  },
  {
   "cell_type": "code",
   "execution_count": null,
   "metadata": {},
   "outputs": [],
   "source": [
    "res2 = data['_source']\n",
    "res2"
   ]
  },
  {
   "cell_type": "code",
   "execution_count": null,
   "metadata": {},
   "outputs": [],
   "source": [
    "df = pd.DataFrame(res2)\n",
    "df"
   ]
  },
  {
   "cell_type": "code",
   "execution_count": null,
   "metadata": {},
   "outputs": [],
   "source": [
    "for r in result:\n",
    "    "
   ]
  },
  {
   "cell_type": "code",
   "execution_count": 5,
   "metadata": {},
   "outputs": [],
   "source": [
    "val = dict({\"data\":\"302e35e3010aed903c7c01be\",\"sigfoxId\":\"401D3A\",\"time\":\"1599027635\",\"snr\":\"null\",\"avgSnr\":\"null\",\"station\":\"null\",\"seqNumber\":\"3968\",\"MessageType\":0,\"InTrip\":True,\"LastFixFailed\":True,\"gpsLatitude\":3.1667502,\"gpsLongitude\":101.6130826,\"Heading\":248,\"SpeedKmH\":1,\"BatteryVoltage\":4.75})"
   ]
  },
  {
   "cell_type": "markdown",
   "metadata": {},
   "source": [
    "SQL CONNECTIONS\n"
   ]
  },
  {
   "cell_type": "code",
   "execution_count": 2,
   "metadata": {},
   "outputs": [],
   "source": [
    "import pymysql\n",
    "import paramiko\n",
    "import pandas as pd\n",
    "import datetime\n",
    "import time\n",
    "from paramiko import SSHClient\n",
    "from sshtunnel import SSHTunnelForwarder\n",
    "from os.path import expanduser\n"
   ]
  },
  {
   "cell_type": "code",
   "execution_count": 3,
   "metadata": {},
   "outputs": [
    {
     "data": {
      "text/plain": [
       "'C:\\\\Users\\\\Faris'"
      ]
     },
     "execution_count": 3,
     "metadata": {},
     "output_type": "execute_result"
    }
   ],
   "source": [
    "home = expanduser('~')\n",
    "home"
   ]
  },
  {
   "cell_type": "code",
   "execution_count": 5,
   "metadata": {},
   "outputs": [],
   "source": [
    "home = expanduser('~')\n",
    "mypkey = paramiko.RSAKey.from_private_key_file(home + '\\\\Documents\\\\GitHub\\\\corepy\\\\jumpbox.pem')\n",
    "# if you want to use ssh password use - ssh_password='your ssh password', bellow\n",
    "\n",
    "sql_hostname = 'satu-prod-main-cluster.cluster-c67xuyhaxijc.ap-southeast-1.rds.amazonaws.com'\n",
    "sql_username = 'harith'\n",
    "sql_password = '75P8JOou9I0rYrWRetqsP77kUP2VFete5ciYpZrn'\n",
    "sql_main_database = 'vapor'\n",
    "sql_port = 3306\n",
    "ssh_host = 'ec2-18-136-210-146.ap-southeast-1.compute.amazonaws.com'\n",
    "ssh_user = 'ec2-user'\n",
    "ssh_port = 22\n",
    "sql_ip = '1.1.1.1.1'\n",
    "\n",
    "with SSHTunnelForwarder(\n",
    "        (ssh_host, ssh_port),\n",
    "        ssh_username=ssh_user,\n",
    "        ssh_pkey=mypkey,\n",
    "        remote_bind_address=(sql_hostname, sql_port)) as tunnel:\n",
    "    conn = pymysql.connect(host='127.0.0.1', user=sql_username,\n",
    "            passwd=sql_password, db=sql_main_database,\n",
    "            port=tunnel.local_bind_port)\n",
    "    query = '''SELECT * FROM vapor.device_raw_readings where created_at between '2022-01-05 00:00:00' and '2022-01-10 00:00:00' '''\n",
    "    data = pd.read_sql_query(query, conn)\n",
    "    conn.close()"
   ]
  },
  {
   "cell_type": "code",
   "execution_count": 6,
   "metadata": {},
   "outputs": [
    {
     "data": {
      "text/html": [
       "<div>\n",
       "<style scoped>\n",
       "    .dataframe tbody tr th:only-of-type {\n",
       "        vertical-align: middle;\n",
       "    }\n",
       "\n",
       "    .dataframe tbody tr th {\n",
       "        vertical-align: top;\n",
       "    }\n",
       "\n",
       "    .dataframe thead th {\n",
       "        text-align: right;\n",
       "    }\n",
       "</style>\n",
       "<table border=\"1\" class=\"dataframe\">\n",
       "  <thead>\n",
       "    <tr style=\"text-align: right;\">\n",
       "      <th></th>\n",
       "      <th>id</th>\n",
       "      <th>device_id</th>\n",
       "      <th>header</th>\n",
       "      <th>value</th>\n",
       "      <th>translated_value</th>\n",
       "      <th>sequence_number</th>\n",
       "      <th>timestamp</th>\n",
       "      <th>device_unique_identifier</th>\n",
       "      <th>is_sync</th>\n",
       "      <th>created_at</th>\n",
       "      <th>updated_at</th>\n",
       "      <th>deleted_at</th>\n",
       "      <th>tenant_id</th>\n",
       "    </tr>\n",
       "  </thead>\n",
       "  <tbody>\n",
       "    <tr>\n",
       "      <th>0</th>\n",
       "      <td>908502</td>\n",
       "      <td>26.0</td>\n",
       "      <td>{\"x-forwarded-proto\":[\"https\"],\"x-forwarded-po...</td>\n",
       "      <td>{\"deviceId\":\"fee88251-7374-4fe0-8b10-dd4d94501...</td>\n",
       "      <td>{\"deviceId\":\"fee88251-7374-4fe0-8b10-dd4d94501...</td>\n",
       "      <td>NaN</td>\n",
       "      <td>NaN</td>\n",
       "      <td>fee88251-7374-4fe0-8b10-dd4d94501ef2</td>\n",
       "      <td>1</td>\n",
       "      <td>2022-01-05 00:00:37</td>\n",
       "      <td>2022-01-05 00:00:37</td>\n",
       "      <td>None</td>\n",
       "      <td>None</td>\n",
       "    </tr>\n",
       "    <tr>\n",
       "      <th>1</th>\n",
       "      <td>908503</td>\n",
       "      <td>19.0</td>\n",
       "      <td>{\"x-forwarded-proto\":[\"https\"],\"x-forwarded-po...</td>\n",
       "      <td>{\"deviceId\":\"cbc16a90-ab64-4dc2-9850-e96b9e91d...</td>\n",
       "      <td>{\"deviceId\":\"cbc16a90-ab64-4dc2-9850-e96b9e91d...</td>\n",
       "      <td>NaN</td>\n",
       "      <td>NaN</td>\n",
       "      <td>cbc16a90-ab64-4dc2-9850-e96b9e91d990</td>\n",
       "      <td>1</td>\n",
       "      <td>2022-01-05 00:00:38</td>\n",
       "      <td>2022-01-05 00:00:38</td>\n",
       "      <td>None</td>\n",
       "      <td>None</td>\n",
       "    </tr>\n",
       "    <tr>\n",
       "      <th>2</th>\n",
       "      <td>908504</td>\n",
       "      <td>16.0</td>\n",
       "      <td>{\"x-forwarded-proto\":[\"https\"],\"x-forwarded-po...</td>\n",
       "      <td>{\"deviceId\":\"fa748d6a-0f16-4439-8923-cfdb0cd9f...</td>\n",
       "      <td>{\"deviceId\":\"fa748d6a-0f16-4439-8923-cfdb0cd9f...</td>\n",
       "      <td>NaN</td>\n",
       "      <td>NaN</td>\n",
       "      <td>fa748d6a-0f16-4439-8923-cfdb0cd9f143</td>\n",
       "      <td>1</td>\n",
       "      <td>2022-01-05 00:00:38</td>\n",
       "      <td>2022-01-05 00:00:38</td>\n",
       "      <td>None</td>\n",
       "      <td>None</td>\n",
       "    </tr>\n",
       "    <tr>\n",
       "      <th>3</th>\n",
       "      <td>908505</td>\n",
       "      <td>1419.0</td>\n",
       "      <td>{\"x-forwarded-proto\":[\"https\"],\"x-forwarded-po...</td>\n",
       "      <td>{\"deviceId\":\"267b40de-87e6-4514-a74b-25cad2f4b...</td>\n",
       "      <td>{\"deviceId\":\"267b40de-87e6-4514-a74b-25cad2f4b...</td>\n",
       "      <td>NaN</td>\n",
       "      <td>NaN</td>\n",
       "      <td>267b40de-87e6-4514-a74b-25cad2f4bea4</td>\n",
       "      <td>1</td>\n",
       "      <td>2022-01-05 00:00:39</td>\n",
       "      <td>2022-01-05 00:00:39</td>\n",
       "      <td>None</td>\n",
       "      <td>None</td>\n",
       "    </tr>\n",
       "    <tr>\n",
       "      <th>4</th>\n",
       "      <td>908506</td>\n",
       "      <td>29.0</td>\n",
       "      <td>{\"x-forwarded-proto\":[\"https\"],\"x-forwarded-po...</td>\n",
       "      <td>{\"deviceId\":\"409d90c7-b6ad-476f-aa9b-f475ea059...</td>\n",
       "      <td>{\"deviceId\":\"409d90c7-b6ad-476f-aa9b-f475ea059...</td>\n",
       "      <td>NaN</td>\n",
       "      <td>NaN</td>\n",
       "      <td>409d90c7-b6ad-476f-aa9b-f475ea0593a4</td>\n",
       "      <td>1</td>\n",
       "      <td>2022-01-05 00:00:39</td>\n",
       "      <td>2022-01-05 00:00:39</td>\n",
       "      <td>None</td>\n",
       "      <td>None</td>\n",
       "    </tr>\n",
       "    <tr>\n",
       "      <th>...</th>\n",
       "      <td>...</td>\n",
       "      <td>...</td>\n",
       "      <td>...</td>\n",
       "      <td>...</td>\n",
       "      <td>...</td>\n",
       "      <td>...</td>\n",
       "      <td>...</td>\n",
       "      <td>...</td>\n",
       "      <td>...</td>\n",
       "      <td>...</td>\n",
       "      <td>...</td>\n",
       "      <td>...</td>\n",
       "      <td>...</td>\n",
       "    </tr>\n",
       "    <tr>\n",
       "      <th>7089</th>\n",
       "      <td>915591</td>\n",
       "      <td>10414.0</td>\n",
       "      <td>{\"accept-charset\":[\"UTF-8;q=0.9,*;q=0.7\"],\"use...</td>\n",
       "      <td>{\"device\":\"E793F9\",\"type\":\"5f6d4c7f0499f5018a9...</td>\n",
       "      <td>{\"device\":\"E793F9\",\"type\":\"5f6d4c7f0499f5018a9...</td>\n",
       "      <td>1989.0</td>\n",
       "      <td>1.641744e+09</td>\n",
       "      <td>E793F9</td>\n",
       "      <td>1</td>\n",
       "      <td>2022-01-09 23:56:10</td>\n",
       "      <td>2022-01-09 23:56:10</td>\n",
       "      <td>None</td>\n",
       "      <td>None</td>\n",
       "    </tr>\n",
       "    <tr>\n",
       "      <th>7090</th>\n",
       "      <td>915592</td>\n",
       "      <td>10414.0</td>\n",
       "      <td>{\"accept-charset\":[\"UTF-8;q=0.9,*;q=0.7\"],\"use...</td>\n",
       "      <td>{\"device\":\"E793F9\",\"type\":\"5f6d4c7f0499f5018a9...</td>\n",
       "      <td>{\"device\":\"E793F9\",\"type\":\"5f6d4c7f0499f5018a9...</td>\n",
       "      <td>1990.0</td>\n",
       "      <td>1.641744e+09</td>\n",
       "      <td>E793F9</td>\n",
       "      <td>1</td>\n",
       "      <td>2022-01-09 23:56:40</td>\n",
       "      <td>2022-01-09 23:56:40</td>\n",
       "      <td>None</td>\n",
       "      <td>None</td>\n",
       "    </tr>\n",
       "    <tr>\n",
       "      <th>7091</th>\n",
       "      <td>915593</td>\n",
       "      <td>39.0</td>\n",
       "      <td>{\"accept-charset\":[\"UTF-8;q=0.9,*;q=0.7\"],\"use...</td>\n",
       "      <td>{\"data\":\"005f5630027a0f863c8600bc\",\"sigfoxId\":...</td>\n",
       "      <td>{\"data\":\"005f5630027a0f863c8600bc\",\"sigfoxId\":...</td>\n",
       "      <td>2554.0</td>\n",
       "      <td>1.641744e+09</td>\n",
       "      <td>3EADB0</td>\n",
       "      <td>1</td>\n",
       "      <td>2022-01-09 23:57:31</td>\n",
       "      <td>2022-01-09 23:57:31</td>\n",
       "      <td>None</td>\n",
       "      <td>None</td>\n",
       "    </tr>\n",
       "    <tr>\n",
       "      <th>7092</th>\n",
       "      <td>915594</td>\n",
       "      <td>319.0</td>\n",
       "      <td>{\"x-forwarded-proto\":[\"https\"],\"x-forwarded-po...</td>\n",
       "      <td>{\"device\":\"41A13B\",\"type\":\"5fade08f0499f50eff9...</td>\n",
       "      <td>{\"device\":\"41A13B\",\"type\":\"5fade08f0499f50eff9...</td>\n",
       "      <td>1831.0</td>\n",
       "      <td>1.641744e+09</td>\n",
       "      <td>41A13B</td>\n",
       "      <td>1</td>\n",
       "      <td>2022-01-09 23:57:54</td>\n",
       "      <td>2022-01-09 23:57:54</td>\n",
       "      <td>None</td>\n",
       "      <td>None</td>\n",
       "    </tr>\n",
       "    <tr>\n",
       "      <th>7093</th>\n",
       "      <td>915595</td>\n",
       "      <td>10449.0</td>\n",
       "      <td>{\"accept-charset\":[\"UTF-8;q=0.9,*;q=0.7\"],\"use...</td>\n",
       "      <td>{\"data\":\"00f8b63a013872533d0000ce\",\"sigfoxId\":...</td>\n",
       "      <td>{\"data\":\"00f8b63a013872533d0000ce\",\"sigfoxId\":...</td>\n",
       "      <td>3990.0</td>\n",
       "      <td>1.641744e+09</td>\n",
       "      <td>401D3A</td>\n",
       "      <td>1</td>\n",
       "      <td>2022-01-09 23:59:30</td>\n",
       "      <td>2022-01-09 23:59:30</td>\n",
       "      <td>None</td>\n",
       "      <td>None</td>\n",
       "    </tr>\n",
       "  </tbody>\n",
       "</table>\n",
       "<p>7094 rows × 13 columns</p>\n",
       "</div>"
      ],
      "text/plain": [
       "          id  device_id                                             header  \\\n",
       "0     908502       26.0  {\"x-forwarded-proto\":[\"https\"],\"x-forwarded-po...   \n",
       "1     908503       19.0  {\"x-forwarded-proto\":[\"https\"],\"x-forwarded-po...   \n",
       "2     908504       16.0  {\"x-forwarded-proto\":[\"https\"],\"x-forwarded-po...   \n",
       "3     908505     1419.0  {\"x-forwarded-proto\":[\"https\"],\"x-forwarded-po...   \n",
       "4     908506       29.0  {\"x-forwarded-proto\":[\"https\"],\"x-forwarded-po...   \n",
       "...      ...        ...                                                ...   \n",
       "7089  915591    10414.0  {\"accept-charset\":[\"UTF-8;q=0.9,*;q=0.7\"],\"use...   \n",
       "7090  915592    10414.0  {\"accept-charset\":[\"UTF-8;q=0.9,*;q=0.7\"],\"use...   \n",
       "7091  915593       39.0  {\"accept-charset\":[\"UTF-8;q=0.9,*;q=0.7\"],\"use...   \n",
       "7092  915594      319.0  {\"x-forwarded-proto\":[\"https\"],\"x-forwarded-po...   \n",
       "7093  915595    10449.0  {\"accept-charset\":[\"UTF-8;q=0.9,*;q=0.7\"],\"use...   \n",
       "\n",
       "                                                  value  \\\n",
       "0     {\"deviceId\":\"fee88251-7374-4fe0-8b10-dd4d94501...   \n",
       "1     {\"deviceId\":\"cbc16a90-ab64-4dc2-9850-e96b9e91d...   \n",
       "2     {\"deviceId\":\"fa748d6a-0f16-4439-8923-cfdb0cd9f...   \n",
       "3     {\"deviceId\":\"267b40de-87e6-4514-a74b-25cad2f4b...   \n",
       "4     {\"deviceId\":\"409d90c7-b6ad-476f-aa9b-f475ea059...   \n",
       "...                                                 ...   \n",
       "7089  {\"device\":\"E793F9\",\"type\":\"5f6d4c7f0499f5018a9...   \n",
       "7090  {\"device\":\"E793F9\",\"type\":\"5f6d4c7f0499f5018a9...   \n",
       "7091  {\"data\":\"005f5630027a0f863c8600bc\",\"sigfoxId\":...   \n",
       "7092  {\"device\":\"41A13B\",\"type\":\"5fade08f0499f50eff9...   \n",
       "7093  {\"data\":\"00f8b63a013872533d0000ce\",\"sigfoxId\":...   \n",
       "\n",
       "                                       translated_value  sequence_number  \\\n",
       "0     {\"deviceId\":\"fee88251-7374-4fe0-8b10-dd4d94501...              NaN   \n",
       "1     {\"deviceId\":\"cbc16a90-ab64-4dc2-9850-e96b9e91d...              NaN   \n",
       "2     {\"deviceId\":\"fa748d6a-0f16-4439-8923-cfdb0cd9f...              NaN   \n",
       "3     {\"deviceId\":\"267b40de-87e6-4514-a74b-25cad2f4b...              NaN   \n",
       "4     {\"deviceId\":\"409d90c7-b6ad-476f-aa9b-f475ea059...              NaN   \n",
       "...                                                 ...              ...   \n",
       "7089  {\"device\":\"E793F9\",\"type\":\"5f6d4c7f0499f5018a9...           1989.0   \n",
       "7090  {\"device\":\"E793F9\",\"type\":\"5f6d4c7f0499f5018a9...           1990.0   \n",
       "7091  {\"data\":\"005f5630027a0f863c8600bc\",\"sigfoxId\":...           2554.0   \n",
       "7092  {\"device\":\"41A13B\",\"type\":\"5fade08f0499f50eff9...           1831.0   \n",
       "7093  {\"data\":\"00f8b63a013872533d0000ce\",\"sigfoxId\":...           3990.0   \n",
       "\n",
       "         timestamp              device_unique_identifier  is_sync  \\\n",
       "0              NaN  fee88251-7374-4fe0-8b10-dd4d94501ef2        1   \n",
       "1              NaN  cbc16a90-ab64-4dc2-9850-e96b9e91d990        1   \n",
       "2              NaN  fa748d6a-0f16-4439-8923-cfdb0cd9f143        1   \n",
       "3              NaN  267b40de-87e6-4514-a74b-25cad2f4bea4        1   \n",
       "4              NaN  409d90c7-b6ad-476f-aa9b-f475ea0593a4        1   \n",
       "...            ...                                   ...      ...   \n",
       "7089  1.641744e+09                                E793F9        1   \n",
       "7090  1.641744e+09                                E793F9        1   \n",
       "7091  1.641744e+09                                3EADB0        1   \n",
       "7092  1.641744e+09                                41A13B        1   \n",
       "7093  1.641744e+09                                401D3A        1   \n",
       "\n",
       "              created_at          updated_at deleted_at tenant_id  \n",
       "0    2022-01-05 00:00:37 2022-01-05 00:00:37       None      None  \n",
       "1    2022-01-05 00:00:38 2022-01-05 00:00:38       None      None  \n",
       "2    2022-01-05 00:00:38 2022-01-05 00:00:38       None      None  \n",
       "3    2022-01-05 00:00:39 2022-01-05 00:00:39       None      None  \n",
       "4    2022-01-05 00:00:39 2022-01-05 00:00:39       None      None  \n",
       "...                  ...                 ...        ...       ...  \n",
       "7089 2022-01-09 23:56:10 2022-01-09 23:56:10       None      None  \n",
       "7090 2022-01-09 23:56:40 2022-01-09 23:56:40       None      None  \n",
       "7091 2022-01-09 23:57:31 2022-01-09 23:57:31       None      None  \n",
       "7092 2022-01-09 23:57:54 2022-01-09 23:57:54       None      None  \n",
       "7093 2022-01-09 23:59:30 2022-01-09 23:59:30       None      None  \n",
       "\n",
       "[7094 rows x 13 columns]"
      ]
     },
     "execution_count": 6,
     "metadata": {},
     "output_type": "execute_result"
    }
   ],
   "source": [
    "data"
   ]
  },
  {
   "cell_type": "code",
   "execution_count": 9,
   "metadata": {},
   "outputs": [
    {
     "data": {
      "text/plain": [
       "{'data': '005f5630027a0f863c8600bc',\n",
       " 'sigfoxId': '3EADB0',\n",
       " 'time': '1641743849',\n",
       " 'seqNumber': '2554'}"
      ]
     },
     "execution_count": 9,
     "metadata": {},
     "output_type": "execute_result"
    }
   ],
   "source": [
    "a = json.loads(data.iloc[7091]['value'])\n",
    "a"
   ]
  },
  {
   "cell_type": "code",
   "execution_count": 15,
   "metadata": {},
   "outputs": [
    {
     "name": "stdout",
     "output_type": "stream",
     "text": [
      "The local time is :2022-01-09 23:57:29\n",
      "The UTC time is :2022-01-09 15:57:29\n"
     ]
    }
   ],
   "source": [
    "t1 = time.strftime('%Y-%m-%d %H:%M:%S', time.localtime(int(a['time'])))\n",
    "print('The local time is :{}'.format(t1))\n",
    "##localtime\n",
    "\n",
    "t2 = time.strftime('%Y-%m-%d %H:%M:%S', time.gmtime(int(a['time'])))\n",
    "print('The UTC time is :{}'.format(t2))\n",
    "##UTC-time"
   ]
  },
  {
   "cell_type": "code",
   "execution_count": 44,
   "metadata": {},
   "outputs": [
    {
     "data": {
      "text/plain": [
       "'fee88251-7374-4fe0-8b10-dd4d94501ef2'"
      ]
     },
     "execution_count": 44,
     "metadata": {},
     "output_type": "execute_result"
    }
   ],
   "source": [
    "a['deviceId']"
   ]
  }
 ],
 "metadata": {
  "interpreter": {
   "hash": "f267cf10368a98ae7825624f2dd7ec9bbb250b5c4ca499253af831a3c4532594"
  },
  "kernelspec": {
   "display_name": "Python 3.9.5 64-bit",
   "language": "python",
   "name": "python3"
  },
  "language_info": {
   "codemirror_mode": {
    "name": "ipython",
    "version": 3
   },
   "file_extension": ".py",
   "mimetype": "text/x-python",
   "name": "python",
   "nbconvert_exporter": "python",
   "pygments_lexer": "ipython3",
   "version": "3.9.5"
  },
  "orig_nbformat": 4
 },
 "nbformat": 4,
 "nbformat_minor": 2
}
